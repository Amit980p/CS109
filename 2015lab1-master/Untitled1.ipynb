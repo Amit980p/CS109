{
 "cells": [
  {
   "cell_type": "code",
   "execution_count": 1,
   "metadata": {},
   "outputs": [
    {
     "name": "stdout",
     "output_type": "stream",
     "text": [
      "Collecting BeautifulSoup\n",
      "  Downloading BeautifulSoup-3.2.1.tar.gz\n",
      "Requirement already satisfied: seaborn in c:\\users\\amit\\anaconda2\\lib\\site-packages\n",
      "Collecting pyquery\n",
      "  Downloading pyquery-1.2.17-py2.py3-none-any.whl\n",
      "Collecting cssselect>0.7.9 (from pyquery)\n",
      "  Downloading cssselect-1.0.1-py2.py3-none-any.whl\n",
      "Requirement already satisfied: lxml>=2.1 in c:\\users\\amit\\anaconda2\\lib\\site-packages (from pyquery)\n",
      "Building wheels for collected packages: BeautifulSoup\n",
      "  Running setup.py bdist_wheel for BeautifulSoup: started\n",
      "  Running setup.py bdist_wheel for BeautifulSoup: finished with status 'done'\n",
      "  Stored in directory: C:\\Users\\AMIT\\AppData\\Local\\pip\\Cache\\wheels\\5e\\be\\6d\\ed01d5d434a821557b674c9da976f60b1b93d9009447eb9d16\n",
      "Successfully built BeautifulSoup\n",
      "Installing collected packages: BeautifulSoup, cssselect, pyquery\n",
      "Successfully installed BeautifulSoup-3.2.1 cssselect-1.0.1 pyquery-1.2.17\n"
     ]
    }
   ],
   "source": [
    "!pip install BeautifulSoup seaborn pyquery"
   ]
  },
  {
   "cell_type": "code",
   "execution_count": 4,
   "metadata": {},
   "outputs": [
    {
     "data": {
      "text/plain": [
       "'hgdgjh'"
      ]
     },
     "execution_count": 4,
     "metadata": {},
     "output_type": "execute_result"
    }
   ],
   "source": [
    "\"hgdgjh\""
   ]
  },
  {
   "cell_type": "code",
   "execution_count": 5,
   "metadata": {
    "collapsed": true
   },
   "outputs": [],
   "source": [
    "import numpy as np"
   ]
  },
  {
   "cell_type": "code",
   "execution_count": 23,
   "metadata": {},
   "outputs": [],
   "source": [
    "x=5* np.random.random_sample(4) -2\n",
    "                "
   ]
  },
  {
   "cell_type": "code",
   "execution_count": 24,
   "metadata": {},
   "outputs": [
    {
     "data": {
      "text/plain": [
       "array([ 0.56761112, -0.12384934, -1.01032148,  0.84742991])"
      ]
     },
     "execution_count": 24,
     "metadata": {},
     "output_type": "execute_result"
    }
   ],
   "source": [
    "x\n"
   ]
  },
  {
   "cell_type": "code",
   "execution_count": 31,
   "metadata": {},
   "outputs": [
    {
     "data": {
      "text/plain": [
       "array([ 0.7375245 ,  0.29859809,  0.71468399,  0.38496546,  0.42610023,\n",
       "        0.35146405,  0.55559398,  0.19599745,  0.59922453,  0.87925352,\n",
       "        0.12161341,  0.37921196,  0.33189007,  0.91443804,  0.82159961,\n",
       "        0.80401611,  0.59130127,  0.28153914,  0.43498319,  0.61300721,\n",
       "        0.21224744,  0.92213822,  0.2460272 ,  0.84905431,  0.30407176,\n",
       "        0.73423103,  0.56683543,  0.34417745,  0.0759291 ,  0.50525705,\n",
       "        0.07834857,  0.03038252,  0.26019218,  0.51425541,  0.68590064,\n",
       "        0.8869524 ,  0.83026764,  0.43185941,  0.40916379,  0.19205897,\n",
       "        0.6077075 ,  0.43475334,  0.67495785,  0.20269228,  0.9201475 ,\n",
       "        0.70285756,  0.62209435,  0.10483047,  0.63646829,  0.36408475,\n",
       "        0.32628014,  0.20330724,  0.97489559,  0.40115328,  0.73274157,\n",
       "        0.90289249])"
      ]
     },
     "execution_count": 31,
     "metadata": {},
     "output_type": "execute_result"
    }
   ],
   "source": [
    "np.random.random(56)\n"
   ]
  },
  {
   "cell_type": "code",
   "execution_count": null,
   "metadata": {
    "collapsed": true
   },
   "outputs": [],
   "source": []
  },
  {
   "cell_type": "code",
   "execution_count": null,
   "metadata": {
    "collapsed": true
   },
   "outputs": [],
   "source": []
  }
 ],
 "metadata": {
  "kernelspec": {
   "display_name": "Python 2",
   "language": "python",
   "name": "python2"
  },
  "language_info": {
   "codemirror_mode": {
    "name": "ipython",
    "version": 2
   },
   "file_extension": ".py",
   "mimetype": "text/x-python",
   "name": "python",
   "nbconvert_exporter": "python",
   "pygments_lexer": "ipython2",
   "version": "2.7.13"
  }
 },
 "nbformat": 4,
 "nbformat_minor": 2
}
